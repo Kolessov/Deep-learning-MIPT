{
  "nbformat": 4,
  "nbformat_minor": 0,
  "metadata": {
    "colab": {
      "name": "CIFAR10.ipynb",
      "provenance": [],
      "collapsed_sections": []
    },
    "kernelspec": {
      "name": "python3",
      "display_name": "Python 3"
    },
    "widgets": {
      "application/vnd.jupyter.widget-state+json": {
        "d48e405d5ed045b0aaf9855bb41d9510": {
          "model_module": "@jupyter-widgets/controls",
          "model_name": "HBoxModel",
          "state": {
            "_view_name": "HBoxView",
            "_dom_classes": [],
            "_model_name": "HBoxModel",
            "_view_module": "@jupyter-widgets/controls",
            "_model_module_version": "1.5.0",
            "_view_count": null,
            "_view_module_version": "1.5.0",
            "box_style": "",
            "layout": "IPY_MODEL_2306452fe74d4ddb849353be2d37fb10",
            "_model_module": "@jupyter-widgets/controls",
            "children": [
              "IPY_MODEL_5f55b7548d5a45c4b9e0d0c4aa9366d0",
              "IPY_MODEL_a1e3a864039c4185a84e41f11f4ea155"
            ]
          }
        },
        "2306452fe74d4ddb849353be2d37fb10": {
          "model_module": "@jupyter-widgets/base",
          "model_name": "LayoutModel",
          "state": {
            "_view_name": "LayoutView",
            "grid_template_rows": null,
            "right": null,
            "justify_content": null,
            "_view_module": "@jupyter-widgets/base",
            "overflow": null,
            "_model_module_version": "1.2.0",
            "_view_count": null,
            "flex_flow": null,
            "width": null,
            "min_width": null,
            "border": null,
            "align_items": null,
            "bottom": null,
            "_model_module": "@jupyter-widgets/base",
            "top": null,
            "grid_column": null,
            "overflow_y": null,
            "overflow_x": null,
            "grid_auto_flow": null,
            "grid_area": null,
            "grid_template_columns": null,
            "flex": null,
            "_model_name": "LayoutModel",
            "justify_items": null,
            "grid_row": null,
            "max_height": null,
            "align_content": null,
            "visibility": null,
            "align_self": null,
            "height": null,
            "min_height": null,
            "padding": null,
            "grid_auto_rows": null,
            "grid_gap": null,
            "max_width": null,
            "order": null,
            "_view_module_version": "1.2.0",
            "grid_template_areas": null,
            "object_position": null,
            "object_fit": null,
            "grid_auto_columns": null,
            "margin": null,
            "display": null,
            "left": null
          }
        },
        "5f55b7548d5a45c4b9e0d0c4aa9366d0": {
          "model_module": "@jupyter-widgets/controls",
          "model_name": "FloatProgressModel",
          "state": {
            "_view_name": "ProgressView",
            "style": "IPY_MODEL_090a69cecc86490289c383b647e78841",
            "_dom_classes": [],
            "description": "",
            "_model_name": "FloatProgressModel",
            "bar_style": "info",
            "max": 1,
            "_view_module": "@jupyter-widgets/controls",
            "_model_module_version": "1.5.0",
            "value": 1,
            "_view_count": null,
            "_view_module_version": "1.5.0",
            "orientation": "horizontal",
            "min": 0,
            "description_tooltip": null,
            "_model_module": "@jupyter-widgets/controls",
            "layout": "IPY_MODEL_a5fad4b5ec7645dd9263ce9d74427b94"
          }
        },
        "a1e3a864039c4185a84e41f11f4ea155": {
          "model_module": "@jupyter-widgets/controls",
          "model_name": "HTMLModel",
          "state": {
            "_view_name": "HTMLView",
            "style": "IPY_MODEL_795bf5ab2cdf4fed844157fcf1125651",
            "_dom_classes": [],
            "description": "",
            "_model_name": "HTMLModel",
            "placeholder": "​",
            "_view_module": "@jupyter-widgets/controls",
            "_model_module_version": "1.5.0",
            "value": " 170500096/? [00:20&lt;00:00, 78812523.54it/s]",
            "_view_count": null,
            "_view_module_version": "1.5.0",
            "description_tooltip": null,
            "_model_module": "@jupyter-widgets/controls",
            "layout": "IPY_MODEL_de40cc51bbd1457eae9db2f2cfffaff5"
          }
        },
        "090a69cecc86490289c383b647e78841": {
          "model_module": "@jupyter-widgets/controls",
          "model_name": "ProgressStyleModel",
          "state": {
            "_view_name": "StyleView",
            "_model_name": "ProgressStyleModel",
            "description_width": "initial",
            "_view_module": "@jupyter-widgets/base",
            "_model_module_version": "1.5.0",
            "_view_count": null,
            "_view_module_version": "1.2.0",
            "bar_color": null,
            "_model_module": "@jupyter-widgets/controls"
          }
        },
        "a5fad4b5ec7645dd9263ce9d74427b94": {
          "model_module": "@jupyter-widgets/base",
          "model_name": "LayoutModel",
          "state": {
            "_view_name": "LayoutView",
            "grid_template_rows": null,
            "right": null,
            "justify_content": null,
            "_view_module": "@jupyter-widgets/base",
            "overflow": null,
            "_model_module_version": "1.2.0",
            "_view_count": null,
            "flex_flow": null,
            "width": null,
            "min_width": null,
            "border": null,
            "align_items": null,
            "bottom": null,
            "_model_module": "@jupyter-widgets/base",
            "top": null,
            "grid_column": null,
            "overflow_y": null,
            "overflow_x": null,
            "grid_auto_flow": null,
            "grid_area": null,
            "grid_template_columns": null,
            "flex": null,
            "_model_name": "LayoutModel",
            "justify_items": null,
            "grid_row": null,
            "max_height": null,
            "align_content": null,
            "visibility": null,
            "align_self": null,
            "height": null,
            "min_height": null,
            "padding": null,
            "grid_auto_rows": null,
            "grid_gap": null,
            "max_width": null,
            "order": null,
            "_view_module_version": "1.2.0",
            "grid_template_areas": null,
            "object_position": null,
            "object_fit": null,
            "grid_auto_columns": null,
            "margin": null,
            "display": null,
            "left": null
          }
        },
        "795bf5ab2cdf4fed844157fcf1125651": {
          "model_module": "@jupyter-widgets/controls",
          "model_name": "DescriptionStyleModel",
          "state": {
            "_view_name": "StyleView",
            "_model_name": "DescriptionStyleModel",
            "description_width": "",
            "_view_module": "@jupyter-widgets/base",
            "_model_module_version": "1.5.0",
            "_view_count": null,
            "_view_module_version": "1.2.0",
            "_model_module": "@jupyter-widgets/controls"
          }
        },
        "de40cc51bbd1457eae9db2f2cfffaff5": {
          "model_module": "@jupyter-widgets/base",
          "model_name": "LayoutModel",
          "state": {
            "_view_name": "LayoutView",
            "grid_template_rows": null,
            "right": null,
            "justify_content": null,
            "_view_module": "@jupyter-widgets/base",
            "overflow": null,
            "_model_module_version": "1.2.0",
            "_view_count": null,
            "flex_flow": null,
            "width": null,
            "min_width": null,
            "border": null,
            "align_items": null,
            "bottom": null,
            "_model_module": "@jupyter-widgets/base",
            "top": null,
            "grid_column": null,
            "overflow_y": null,
            "overflow_x": null,
            "grid_auto_flow": null,
            "grid_area": null,
            "grid_template_columns": null,
            "flex": null,
            "_model_name": "LayoutModel",
            "justify_items": null,
            "grid_row": null,
            "max_height": null,
            "align_content": null,
            "visibility": null,
            "align_self": null,
            "height": null,
            "min_height": null,
            "padding": null,
            "grid_auto_rows": null,
            "grid_gap": null,
            "max_width": null,
            "order": null,
            "_view_module_version": "1.2.0",
            "grid_template_areas": null,
            "object_position": null,
            "object_fit": null,
            "grid_auto_columns": null,
            "margin": null,
            "display": null,
            "left": null
          }
        }
      }
    }
  },
  "cells": [
    {
      "cell_type": "markdown",
      "metadata": {
        "id": "FYQ9NkkgoZdO",
        "colab_type": "text"
      },
      "source": [
        "### CIFAR10 : Multilayer networks and autoencoder"
      ]
    },
    {
      "cell_type": "code",
      "metadata": {
        "id": "W3jHHGqvoV9m",
        "colab_type": "code",
        "colab": {}
      },
      "source": [
        "import numpy as np\n",
        "import matplotlib.pyplot as plt\n",
        "import torch\n",
        "import torch.nn as nn\n",
        "import torchvision\n",
        "import torch.optim as optim\n",
        "import torch.nn.functional as F\n",
        "from torch.autograd import Variable\n",
        "from tqdm import tqdm_notebook\n",
        "import torchvision.transforms as transforms\n",
        "import warnings\n",
        "warnings.filterwarnings(\"ignore\")"
      ],
      "execution_count": 129,
      "outputs": []
    },
    {
      "cell_type": "markdown",
      "metadata": {
        "id": "4d2rlhbAq7JS",
        "colab_type": "text"
      },
      "source": [
        "### Task 1:\n",
        "One should do fucntion, which accept tensor 28*28 and plot it"
      ]
    },
    {
      "cell_type": "code",
      "metadata": {
        "id": "SQgVVaQ2qBFM",
        "colab_type": "code",
        "colab": {}
      },
      "source": [
        "def show_tensor_image(torch_tensor):\n",
        "  plt.imshow(torch_tensor, cmap = 'viridis')\n",
        "  plt.show()"
      ],
      "execution_count": 2,
      "outputs": []
    },
    {
      "cell_type": "code",
      "metadata": {
        "id": "LSqBpjc6skeV",
        "colab_type": "code",
        "colab": {
          "base_uri": "https://localhost:8080/",
          "height": 265
        },
        "outputId": "e0e3c7b3-8db4-41c3-eb67-0d642caa9286"
      },
      "source": [
        "show_tensor_image(torch.rand([28,28])) ## check the fucntion"
      ],
      "execution_count": 3,
      "outputs": [
        {
          "output_type": "display_data",
          "data": {
            "image/png": "[encoded data removed]",
            "text/plain": [
              "<Figure size 432x288 with 1 Axes>"
            ]
          },
          "metadata": {
            "tags": [],
            "needs_background": "light"
          }
        }
      ]
    },
    {
      "cell_type": "markdown",
      "metadata": {
        "id": "h5OFjNA6uuIn",
        "colab_type": "text"
      },
      "source": [
        "### Task 2. \n",
        "Upload the dataset"
      ]
    },
    {
      "cell_type": "code",
      "metadata": {
        "id": "ibfMu7apu4UY",
        "colab_type": "code",
        "colab": {
          "base_uri": "https://localhost:8080/",
          "height": 100,
          "referenced_widgets": [
            "d48e405d5ed045b0aaf9855bb41d9510",
            "2306452fe74d4ddb849353be2d37fb10",
            "5f55b7548d5a45c4b9e0d0c4aa9366d0",
            "a1e3a864039c4185a84e41f11f4ea155",
            "090a69cecc86490289c383b647e78841",
            "a5fad4b5ec7645dd9263ce9d74427b94",
            "795bf5ab2cdf4fed844157fcf1125651",
            "de40cc51bbd1457eae9db2f2cfffaff5"
          ]
        },
        "outputId": "c2df5b53-af63-432c-e0ed-1f382d74d038"
      },
      "source": [
        "dataset = torchvision.datasets.CIFAR10(root = \"./data\",train = True, download = True)\n",
        "testset = torchvision.datasets.CIFAR10(root = \"./data\",train = False, download = True)"
      ],
      "execution_count": 4,
      "outputs": [
        {
          "output_type": "stream",
          "text": [
            "Downloading https://www.cs.toronto.edu/~kriz/cifar-10-python.tar.gz to ./data/cifar-10-python.tar.gz\n"
          ],
          "name": "stdout"
        },
        {
          "output_type": "display_data",
          "data": {
            "application/vnd.jupyter.widget-view+json": {
              "model_id": "d48e405d5ed045b0aaf9855bb41d9510",
              "version_minor": 0,
              "version_major": 2
            },
            "text/plain": [
              "HBox(children=(FloatProgress(value=1.0, bar_style='info', max=1.0), HTML(value='')))"
            ]
          },
          "metadata": {
            "tags": []
          }
        },
        {
          "output_type": "stream",
          "text": [
            "Extracting ./data/cifar-10-python.tar.gz to ./data\n",
            "Files already downloaded and verified\n"
          ],
          "name": "stdout"
        }
      ]
    },
    {
      "cell_type": "code",
      "metadata": {
        "id": "cJb2N_9_YMhM",
        "colab_type": "code",
        "colab": {
          "base_uri": "https://localhost:8080/",
          "height": 68
        },
        "outputId": "05982c4a-8164-4101-bb7c-3668d8b88eae"
      },
      "source": [
        "img, lab = dataset.__getitem__(0)\n",
        "img, lab, type(img)"
      ],
      "execution_count": 5,
      "outputs": [
        {
          "output_type": "execute_result",
          "data": {
            "text/plain": [
              "(<PIL.Image.Image image mode=RGB size=32x32 at 0x7FF747A19198>,\n",
              " 6,\n",
              " PIL.Image.Image)"
            ]
          },
          "metadata": {
            "tags": []
          },
          "execution_count": 5
        }
      ]
    },
    {
      "cell_type": "code",
      "metadata": {
        "id": "VAYifxJdY_r9",
        "colab_type": "code",
        "colab": {
          "base_uri": "https://localhost:8080/",
          "height": 153
        },
        "outputId": "57d366b8-eabb-424a-9555-f65d5404b10a"
      },
      "source": [
        "trans_tensor = transforms.ToTensor()\n",
        "tensor_of_image = trans_tensor(img)\n",
        "tensor_of_image.shape, tensor_of_image[0]"
      ],
      "execution_count": 6,
      "outputs": [
        {
          "output_type": "execute_result",
          "data": {
            "text/plain": [
              "(torch.Size([3, 32, 32]),\n",
              " tensor([[0.2314, 0.1686, 0.1961,  ..., 0.6196, 0.5961, 0.5804],\n",
              "         [0.0627, 0.0000, 0.0706,  ..., 0.4824, 0.4667, 0.4784],\n",
              "         [0.0980, 0.0627, 0.1922,  ..., 0.4627, 0.4706, 0.4275],\n",
              "         ...,\n",
              "         [0.8157, 0.7882, 0.7765,  ..., 0.6275, 0.2196, 0.2078],\n",
              "         [0.7059, 0.6784, 0.7294,  ..., 0.7216, 0.3804, 0.3255],\n",
              "         [0.6941, 0.6588, 0.7020,  ..., 0.8471, 0.5922, 0.4824]]))"
            ]
          },
          "metadata": {
            "tags": []
          },
          "execution_count": 6
        }
      ]
    },
    {
      "cell_type": "code",
      "metadata": {
        "id": "G2sYYbABWkXQ",
        "colab_type": "code",
        "colab": {
          "base_uri": "https://localhost:8080/",
          "height": 781
        },
        "outputId": "872bebb3-0c12-48da-d7ff-d4c71f573f70"
      },
      "source": [
        "trans_tensor = transforms.ToTensor()\n",
        "show_tensor_image(trans_tensor(img)[0]),show_tensor_image(trans_tensor(img)[1]),show_tensor_image(trans_tensor(img)[2])\n",
        "## cannot show_tensor_image(trans_tensor(img))"
      ],
      "execution_count": 7,
      "outputs": [
        {
          "output_type": "display_data",
          "data": {
            "image/png": "[encoded data removed]",
            "text/plain": [
              "<Figure size 432x288 with 1 Axes>"
            ]
          },
          "metadata": {
            "tags": [],
            "needs_background": "light"
          }
        },
        {
          "output_type": "display_data",
          "data": {
            "image/png": "[encoded data removed]",
            "text/plain": [
              "<Figure size 432x288 with 1 Axes>"
            ]
          },
          "metadata": {
            "tags": [],
            "needs_background": "light"
          }
        },
        {
          "output_type": "display_data",
          "data": {
            "image/png": "[encoded data removed]",
            "text/plain": [
              "<Figure size 432x288 with 1 Axes>"
            ]
          },
          "metadata": {
            "tags": [],
            "needs_background": "light"
          }
        },
        {
          "output_type": "execute_result",
          "data": {
            "text/plain": [
              "(None, None, None)"
            ]
          },
          "metadata": {
            "tags": []
          },
          "execution_count": 7
        }
      ]
    },
    {
      "cell_type": "code",
      "metadata": {
        "id": "c1FGcm8raY0V",
        "colab_type": "code",
        "colab": {
          "base_uri": "https://localhost:8080/",
          "height": 49
        },
        "outputId": "f391d63c-d6a7-400a-aaaf-82948f8837b1"
      },
      "source": [
        "img"
      ],
      "execution_count": 8,
      "outputs": [
        {
          "output_type": "execute_result",
          "data": {
            "image/png": "[encoded data removed]",
            "text/plain": [
              "<PIL.Image.Image image mode=RGB size=32x32 at 0x7FF747A19198>"
            ]
          },
          "metadata": {
            "tags": []
          },
          "execution_count": 8
        }
      ]
    },
    {
      "cell_type": "code",
      "metadata": {
        "id": "NOJn8yQ2aB2-",
        "colab_type": "code",
        "colab": {
          "base_uri": "https://localhost:8080/",
          "height": 266
        },
        "outputId": "5342f720-5a78-4e52-fab5-f583a0ec5e2d"
      },
      "source": [
        "trans_PIL = transforms.ToPILImage()\n",
        "trans_tensor = transforms.ToTensor()\n",
        "show_tensor_image(trans_PIL(trans_tensor(img)))"
      ],
      "execution_count": 9,
      "outputs": [
        {
          "output_type": "display_data",
          "data": {
            "image/png": "[encoded data removed]",
            "text/plain": [
              "<Figure size 432x288 with 1 Axes>"
            ]
          },
          "metadata": {
            "tags": [],
            "needs_background": "light"
          }
        }
      ]
    },
    {
      "cell_type": "markdown",
      "metadata": {
        "id": "EzIPkHo6a-dz",
        "colab_type": "text"
      },
      "source": [
        "\n",
        "В результате загрузки датасетов при помощи пакета torchvision мы получим картинки, содержащие значения в диапазоне [0,1], чтобы подавать их в нейросеть, нам нужно сделать из них тензоры со значениями в диапазоне [-1,1]"
      ]
    },
    {
      "cell_type": "markdown",
      "metadata": {
        "id": "J8y6JyV7b9n8",
        "colab_type": "text"
      },
      "source": [
        "Можно в ручную , как кодом ниже"
      ]
    },
    {
      "cell_type": "code",
      "metadata": {
        "id": "2GsCz_1sb9Hx",
        "colab_type": "code",
        "colab": {
          "base_uri": "https://localhost:8080/",
          "height": 136
        },
        "outputId": "690b7df1-fc4a-443f-e24c-d75f9d99587f"
      },
      "source": [
        "trans_tensor(img)[0]"
      ],
      "execution_count": 10,
      "outputs": [
        {
          "output_type": "execute_result",
          "data": {
            "text/plain": [
              "tensor([[0.2314, 0.1686, 0.1961,  ..., 0.6196, 0.5961, 0.5804],\n",
              "        [0.0627, 0.0000, 0.0706,  ..., 0.4824, 0.4667, 0.4784],\n",
              "        [0.0980, 0.0627, 0.1922,  ..., 0.4627, 0.4706, 0.4275],\n",
              "        ...,\n",
              "        [0.8157, 0.7882, 0.7765,  ..., 0.6275, 0.2196, 0.2078],\n",
              "        [0.7059, 0.6784, 0.7294,  ..., 0.7216, 0.3804, 0.3255],\n",
              "        [0.6941, 0.6588, 0.7020,  ..., 0.8471, 0.5922, 0.4824]])"
            ]
          },
          "metadata": {
            "tags": []
          },
          "execution_count": 10
        }
      ]
    },
    {
      "cell_type": "code",
      "metadata": {
        "id": "Lmi3KO3Uch5C",
        "colab_type": "code",
        "colab": {
          "base_uri": "https://localhost:8080/",
          "height": 136
        },
        "outputId": "90c76a92-33b8-4a3a-e317-b6611cbba685"
      },
      "source": [
        "result = (trans_tensor(img)[0] - 0.5)/0.5\n",
        "result"
      ],
      "execution_count": 11,
      "outputs": [
        {
          "output_type": "execute_result",
          "data": {
            "text/plain": [
              "tensor([[-0.5373, -0.6627, -0.6078,  ...,  0.2392,  0.1922,  0.1608],\n",
              "        [-0.8745, -1.0000, -0.8588,  ..., -0.0353, -0.0667, -0.0431],\n",
              "        [-0.8039, -0.8745, -0.6157,  ..., -0.0745, -0.0588, -0.1451],\n",
              "        ...,\n",
              "        [ 0.6314,  0.5765,  0.5529,  ...,  0.2549, -0.5608, -0.5843],\n",
              "        [ 0.4118,  0.3569,  0.4588,  ...,  0.4431, -0.2392, -0.3490],\n",
              "        [ 0.3882,  0.3176,  0.4039,  ...,  0.6941,  0.1843, -0.0353]])"
            ]
          },
          "metadata": {
            "tags": []
          },
          "execution_count": 11
        }
      ]
    },
    {
      "cell_type": "code",
      "metadata": {
        "id": "_554EiacdIy5",
        "colab_type": "code",
        "colab": {
          "base_uri": "https://localhost:8080/",
          "height": 136
        },
        "outputId": "00d7705c-2992-4b02-844f-313b2c0a5693"
      },
      "source": [
        "norm_trans = transforms.Normalize((0.5,0.5,0.5),(0.5,0.5,0.5))\n",
        "norm_trans(trans_tensor(img))[0]"
      ],
      "execution_count": 13,
      "outputs": [
        {
          "output_type": "execute_result",
          "data": {
            "text/plain": [
              "tensor([[-0.5373, -0.6627, -0.6078,  ...,  0.2392,  0.1922,  0.1608],\n",
              "        [-0.8745, -1.0000, -0.8588,  ..., -0.0353, -0.0667, -0.0431],\n",
              "        [-0.8039, -0.8745, -0.6157,  ..., -0.0745, -0.0588, -0.1451],\n",
              "        ...,\n",
              "        [ 0.6314,  0.5765,  0.5529,  ...,  0.2549, -0.5608, -0.5843],\n",
              "        [ 0.4118,  0.3569,  0.4588,  ...,  0.4431, -0.2392, -0.3490],\n",
              "        [ 0.3882,  0.3176,  0.4039,  ...,  0.6941,  0.1843, -0.0353]])"
            ]
          },
          "metadata": {
            "tags": []
          },
          "execution_count": 13
        }
      ]
    },
    {
      "cell_type": "markdown",
      "metadata": {
        "id": "yqRDeK_nd7pJ",
        "colab_type": "text"
      },
      "source": [
        "As one can see, we can make transforms.Normalization instead of the (img - 0.5)/0.5"
      ]
    },
    {
      "cell_type": "code",
      "metadata": {
        "id": "_7pQWcanatWY",
        "colab_type": "code",
        "colab": {}
      },
      "source": [
        "transform = transforms.Compose(\n",
        "[\n",
        "    transforms.ToTensor(),\n",
        "    transforms.Normalize((0.5, 0.5, 0.5), (0.5, 0.5, 0.5))\n",
        "])"
      ],
      "execution_count": 14,
      "outputs": []
    },
    {
      "cell_type": "code",
      "metadata": {
        "id": "4AFDo0oHKVfd",
        "colab_type": "code",
        "colab": {
          "base_uri": "https://localhost:8080/",
          "height": 51
        },
        "outputId": "90106497-ed68-4ef1-9355-fb2e400fca23"
      },
      "source": [
        "dataset = torchvision.datasets.CIFAR10(root = \"./data\",train = True, download = True,transform = transform)\n",
        "testset = torchvision.datasets.CIFAR10(root = \"./data\",train = False, download = True,transform = transform )\n",
        "train_loader = torch.utils.data.DataLoader(dataset, batch_size = 32, shuffle=True,num_workers = 0, pin_memory = False )\n",
        "validation_loader = torch.utils.data.DataLoader(testset,batch_size = 32, shuffle = False, num_workers =0 , pin_memory = False)"
      ],
      "execution_count": 114,
      "outputs": [
        {
          "output_type": "stream",
          "text": [
            "Files already downloaded and verified\n",
            "Files already downloaded and verified\n"
          ],
          "name": "stdout"
        }
      ]
    },
    {
      "cell_type": "code",
      "metadata": {
        "id": "XcgEUiIxMQGn",
        "colab_type": "code",
        "colab": {
          "base_uri": "https://localhost:8080/",
          "height": 34
        },
        "outputId": "ba5ae530-1704-4c46-dde8-65c79ab2618d"
      },
      "source": [
        "dataset.__len__(), testset.__len__()"
      ],
      "execution_count": 98,
      "outputs": [
        {
          "output_type": "execute_result",
          "data": {
            "text/plain": [
              "(50000, 10000)"
            ]
          },
          "metadata": {
            "tags": []
          },
          "execution_count": 98
        }
      ]
    },
    {
      "cell_type": "code",
      "metadata": {
        "id": "57A9i9ZnMz7h",
        "colab_type": "code",
        "colab": {
          "base_uri": "https://localhost:8080/",
          "height": 34
        },
        "outputId": "d7e8ec32-d1b1-457a-c16f-2a409e68faaf"
      },
      "source": [
        "# достаем случайные картинки из обучающей выборки\n",
        "data_iter = iter(train_loader)\n",
        "img,lab = data_iter.next()\n",
        "img.shape, type(img) # batch of images"
      ],
      "execution_count": 99,
      "outputs": [
        {
          "output_type": "execute_result",
          "data": {
            "text/plain": [
              "(torch.Size([4, 3, 32, 32]), torch.Tensor)"
            ]
          },
          "metadata": {
            "tags": []
          },
          "execution_count": 99
        }
      ]
    },
    {
      "cell_type": "code",
      "metadata": {
        "id": "Ywxe-m7agcwN",
        "colab_type": "code",
        "colab": {
          "base_uri": "https://localhost:8080/",
          "height": 266
        },
        "outputId": "5b730fe5-ce1c-47d8-9556-fe450f2105ee"
      },
      "source": [
        "show_tensor_image(trans_PIL(img[3]))"
      ],
      "execution_count": 101,
      "outputs": [
        {
          "output_type": "display_data",
          "data": {
            "image/png": "[encoded data removed]",
            "text/plain": [
              "<Figure size 432x288 with 1 Axes>"
            ]
          },
          "metadata": {
            "tags": [],
            "needs_background": "light"
          }
        }
      ]
    },
    {
      "cell_type": "code",
      "metadata": {
        "id": "kEdlW-iyg67m",
        "colab_type": "code",
        "colab": {
          "base_uri": "https://localhost:8080/",
          "height": 138
        },
        "outputId": "694041b8-3052-4122-f5e4-6cb4f61aad04"
      },
      "source": [
        "def clear_imshow(img):\n",
        "    img = img / 2 + 0.5     # денормировка\n",
        "    npimg = img.numpy()\n",
        "    plt.imshow(np.transpose(npimg, (1, 2, 0)))\n",
        "clear_imshow(torchvision.utils.make_grid(img))"
      ],
      "execution_count": 102,
      "outputs": [
        {
          "output_type": "display_data",
          "data": {
            "image/png": "[encoded data removed]",
            "text/plain": [
              "<Figure size 432x288 with 1 Axes>"
            ]
          },
          "metadata": {
            "tags": [],
            "needs_background": "light"
          }
        }
      ]
    },
    {
      "cell_type": "markdown",
      "metadata": {
        "id": "2GRmOlLYhQ0O",
        "colab_type": "text"
      },
      "source": [
        "### TASK 3:\n",
        "Create the neural network for this problem"
      ]
    },
    {
      "cell_type": "code",
      "metadata": {
        "id": "i1L4G8Op5bKu",
        "colab_type": "code",
        "colab": {}
      },
      "source": [
        "IMAGE_WIDTH = 32\n",
        "IMAGE_HEIGHT = 32\n",
        "COLOR_CHANNELS = 3\n",
        "EPOCHS = 50\n",
        "LEARNING_RATE = 0.001\n",
        "BATCH_SIZE = 32\n",
        "BATCH_IMAGE_COUNT = 10000\n",
        "CLASSES = ['plane', 'car', 'bird', 'cat', 'deer', 'dog', 'frog', 'horse', 'ship', 'truck']\n",
        "N_CLASSES = len(CLASSES)\n",
        "PLOT = False"
      ],
      "execution_count": 103,
      "outputs": []
    },
    {
      "cell_type": "code",
      "metadata": {
        "id": "xjMAWF4khP8Z",
        "colab_type": "code",
        "colab": {}
      },
      "source": [
        "class Net(nn.Module):\n",
        "  def __init__(self,n_hidden_nodes):\n",
        "    super(Net,self).__init__()\n",
        "    self.fc1 = nn.Linear(IMAGE_WIDTH*IMAGE_WIDTH*COLOR_CHANNELS, n_hidden_nodes)\n",
        "    self.out = nn.Linear(n_hidden_nodes,N_CLASSES)\n",
        "  def forward(self,x):\n",
        "    x = x.view(-1,IMAGE_WIDTH * IMAGE_WIDTH * COLOR_CHANNELS)\n",
        "    sigmoid = torch.nn.Sigmoid()\n",
        "    x = sigmoid(self.fc1(x))\n",
        "    x = F.log_softmax(self.out(x))\n",
        "    return x"
      ],
      "execution_count": 104,
      "outputs": []
    },
    {
      "cell_type": "markdown",
      "metadata": {
        "id": "TJFhkoPXjQRG",
        "colab_type": "text"
      },
      "source": [
        "### Task 4:\n",
        "Create the Train and Evaluate methods"
      ]
    },
    {
      "cell_type": "code",
      "metadata": {
        "id": "vruQJtrLj4vb",
        "colab_type": "code",
        "colab": {}
      },
      "source": [
        "def get_cross_entropy(values, values_pred):\n",
        "  return F.nll_loss(values,values_pred)"
      ],
      "execution_count": 105,
      "outputs": []
    },
    {
      "cell_type": "code",
      "metadata": {
        "id": "BRVcXhqEjYki",
        "colab_type": "code",
        "colab": {}
      },
      "source": [
        "def train(epoch, model, train_loader, optimizer, log_interval=100, cuda=None):\n",
        "  model.train()\n",
        "  correct = 0\n",
        "  for batch_idx, (data, target) in enumerate(train_loader):\n",
        "    data, target = Variable(data), Variable(target)\n",
        "    optimizer.zero_grad()\n",
        "    output = model(data)\n",
        "\n",
        "    pred = output.data.max(1)[1] # get the index of the max log-probability\n",
        "    correct += pred.eq(target.data).cpu().sum()\n",
        "    accuracy = 100. * correct / len(train_loader.dataset)\n",
        "        \n",
        "        \n",
        "    loss = torch.nn.functional.nll_loss(output, target)\n",
        "    loss.backward()\n",
        "    optimizer.step()\n",
        "    if batch_idx % 10000 == 0:\n",
        "      print('Train Epoch: {} [{}/{} ({:.0f}%)]\\tLoss: {:.6f}'.format(\n",
        "            epoch, batch_idx * len(data), len(train_loader.dataset),\n",
        "            100. * batch_idx / len(train_loader), loss.item(), accuracy))"
      ],
      "execution_count": 125,
      "outputs": []
    },
    {
      "cell_type": "code",
      "metadata": {
        "id": "Mg4rK04rhcL7",
        "colab_type": "code",
        "colab": {}
      },
      "source": [
        "def validate(loss_vector, accuracy_vector, model, validation_loader, cuda=None):\n",
        "  model.eval()\n",
        "  val_loss, correct = 0, 0\n",
        "  for data, target in validation_loader:\n",
        "   \n",
        "    data, target = Variable(data, volatile=True), Variable(target)\n",
        "    output = model(data)\n",
        "    val_loss += torch.nn.functional.nll_loss(output, target).item()\n",
        "    pred = output.data.max(1)[1] # get the index of the max log-probability\n",
        "    correct += pred.eq(target.data).cpu().sum()\n",
        "\n",
        "  val_loss /= len(validation_loader)\n",
        "  loss_vector.append(val_loss)\n",
        "\n",
        "  accuracy = 100. * correct / len(validation_loader.dataset)\n",
        "  accuracy_vector.append(accuracy)\n",
        "\n",
        "  print('\\nValidation set: Average loss: {:.4f}, Accuracy: {}/{} ({:.0f}%)\\n'.format(\n",
        "      val_loss, correct, len(validation_loader.dataset), accuracy))"
      ],
      "execution_count": 118,
      "outputs": []
    },
    {
      "cell_type": "code",
      "metadata": {
        "id": "GUaNsw2q6IBj",
        "colab_type": "code",
        "colab": {
          "base_uri": "https://localhost:8080/",
          "height": 1000
        },
        "outputId": "7c0e52d9-83cc-4e1e-8bab-4c400d02c878"
      },
      "source": [
        "hidden_nodes = 10\n",
        "layers = 1\n",
        "model = Net(hidden_nodes)\n",
        "optimizer = torch.optim.SGD(model.parameters(), lr=LEARNING_RATE)\n",
        "loss_vector = []\n",
        "acc_vector = []\n",
        "for epoch in range(1, EPOCHS + 1):\n",
        "  train(epoch, model, train_loader, optimizer)\n",
        "  validate(loss_vector, acc_vector, model, validation_loader)\n",
        "  if epoch == 40:\n",
        "      break"
      ],
      "execution_count": 126,
      "outputs": [
        {
          "output_type": "stream",
          "text": [
            "Train Epoch: 1 [0/50000 (0%)]\tLoss: 2.299684\n",
            "\n",
            "Validation set: Average loss: 2.2453, Accuracy: 1923/10000 (19%)\n",
            "\n",
            "Train Epoch: 2 [0/50000 (0%)]\tLoss: 2.275990\n",
            "\n",
            "Validation set: Average loss: 2.2077, Accuracy: 2206/10000 (22%)\n",
            "\n",
            "Train Epoch: 3 [0/50000 (0%)]\tLoss: 2.176100\n",
            "\n",
            "Validation set: Average loss: 2.1789, Accuracy: 2373/10000 (24%)\n",
            "\n",
            "Train Epoch: 4 [0/50000 (0%)]\tLoss: 2.174095\n",
            "\n",
            "Validation set: Average loss: 2.1540, Accuracy: 2490/10000 (25%)\n",
            "\n",
            "Train Epoch: 5 [0/50000 (0%)]\tLoss: 2.181161\n",
            "\n",
            "Validation set: Average loss: 2.1319, Accuracy: 2606/10000 (26%)\n",
            "\n",
            "Train Epoch: 6 [0/50000 (0%)]\tLoss: 2.116617\n",
            "\n",
            "Validation set: Average loss: 2.1117, Accuracy: 2669/10000 (27%)\n",
            "\n",
            "Train Epoch: 7 [0/50000 (0%)]\tLoss: 2.083330\n",
            "\n",
            "Validation set: Average loss: 2.0932, Accuracy: 2712/10000 (27%)\n",
            "\n",
            "Train Epoch: 8 [0/50000 (0%)]\tLoss: 2.049271\n",
            "\n",
            "Validation set: Average loss: 2.0761, Accuracy: 2762/10000 (28%)\n",
            "\n",
            "Train Epoch: 9 [0/50000 (0%)]\tLoss: 2.072252\n",
            "\n",
            "Validation set: Average loss: 2.0603, Accuracy: 2804/10000 (28%)\n",
            "\n",
            "Train Epoch: 10 [0/50000 (0%)]\tLoss: 2.100006\n",
            "\n",
            "Validation set: Average loss: 2.0458, Accuracy: 2845/10000 (28%)\n",
            "\n",
            "Train Epoch: 11 [0/50000 (0%)]\tLoss: 2.119084\n",
            "\n",
            "Validation set: Average loss: 2.0323, Accuracy: 2901/10000 (29%)\n",
            "\n",
            "Train Epoch: 12 [0/50000 (0%)]\tLoss: 2.057414\n",
            "\n",
            "Validation set: Average loss: 2.0198, Accuracy: 2964/10000 (30%)\n",
            "\n",
            "Train Epoch: 13 [0/50000 (0%)]\tLoss: 1.919562\n",
            "\n",
            "Validation set: Average loss: 2.0083, Accuracy: 3006/10000 (30%)\n",
            "\n",
            "Train Epoch: 14 [0/50000 (0%)]\tLoss: 1.984411\n",
            "\n",
            "Validation set: Average loss: 1.9976, Accuracy: 3045/10000 (30%)\n",
            "\n",
            "Train Epoch: 15 [0/50000 (0%)]\tLoss: 1.953437\n",
            "\n",
            "Validation set: Average loss: 1.9876, Accuracy: 3097/10000 (31%)\n",
            "\n",
            "Train Epoch: 16 [0/50000 (0%)]\tLoss: 2.007798\n",
            "\n",
            "Validation set: Average loss: 1.9783, Accuracy: 3133/10000 (31%)\n",
            "\n",
            "Train Epoch: 17 [0/50000 (0%)]\tLoss: 1.821155\n",
            "\n",
            "Validation set: Average loss: 1.9696, Accuracy: 3143/10000 (31%)\n",
            "\n",
            "Train Epoch: 18 [0/50000 (0%)]\tLoss: 2.145231\n",
            "\n",
            "Validation set: Average loss: 1.9614, Accuracy: 3170/10000 (32%)\n",
            "\n",
            "Train Epoch: 19 [0/50000 (0%)]\tLoss: 1.958222\n",
            "\n",
            "Validation set: Average loss: 1.9536, Accuracy: 3201/10000 (32%)\n",
            "\n",
            "Train Epoch: 20 [0/50000 (0%)]\tLoss: 1.896202\n",
            "\n",
            "Validation set: Average loss: 1.9462, Accuracy: 3199/10000 (32%)\n",
            "\n",
            "Train Epoch: 21 [0/50000 (0%)]\tLoss: 1.824087\n",
            "\n",
            "Validation set: Average loss: 1.9392, Accuracy: 3238/10000 (32%)\n",
            "\n",
            "Train Epoch: 22 [0/50000 (0%)]\tLoss: 2.033862\n",
            "\n",
            "Validation set: Average loss: 1.9326, Accuracy: 3263/10000 (33%)\n",
            "\n",
            "Train Epoch: 23 [0/50000 (0%)]\tLoss: 1.968241\n",
            "\n",
            "Validation set: Average loss: 1.9263, Accuracy: 3277/10000 (33%)\n",
            "\n",
            "Train Epoch: 24 [0/50000 (0%)]\tLoss: 2.041823\n",
            "\n",
            "Validation set: Average loss: 1.9201, Accuracy: 3309/10000 (33%)\n",
            "\n",
            "Train Epoch: 25 [0/50000 (0%)]\tLoss: 1.813462\n",
            "\n",
            "Validation set: Average loss: 1.9142, Accuracy: 3317/10000 (33%)\n",
            "\n",
            "Train Epoch: 26 [0/50000 (0%)]\tLoss: 1.823893\n",
            "\n",
            "Validation set: Average loss: 1.9087, Accuracy: 3315/10000 (33%)\n",
            "\n",
            "Train Epoch: 27 [0/50000 (0%)]\tLoss: 1.801405\n",
            "\n",
            "Validation set: Average loss: 1.9033, Accuracy: 3328/10000 (33%)\n",
            "\n",
            "Train Epoch: 28 [0/50000 (0%)]\tLoss: 1.916221\n",
            "\n",
            "Validation set: Average loss: 1.8981, Accuracy: 3348/10000 (33%)\n",
            "\n",
            "Train Epoch: 29 [0/50000 (0%)]\tLoss: 1.794465\n",
            "\n",
            "Validation set: Average loss: 1.8933, Accuracy: 3365/10000 (34%)\n",
            "\n",
            "Train Epoch: 30 [0/50000 (0%)]\tLoss: 1.810112\n",
            "\n",
            "Validation set: Average loss: 1.8885, Accuracy: 3385/10000 (34%)\n",
            "\n",
            "Train Epoch: 31 [0/50000 (0%)]\tLoss: 1.817794\n",
            "\n",
            "Validation set: Average loss: 1.8840, Accuracy: 3379/10000 (34%)\n",
            "\n",
            "Train Epoch: 32 [0/50000 (0%)]\tLoss: 1.829191\n",
            "\n",
            "Validation set: Average loss: 1.8797, Accuracy: 3389/10000 (34%)\n",
            "\n",
            "Train Epoch: 33 [0/50000 (0%)]\tLoss: 2.013085\n",
            "\n",
            "Validation set: Average loss: 1.8754, Accuracy: 3420/10000 (34%)\n",
            "\n",
            "Train Epoch: 34 [0/50000 (0%)]\tLoss: 1.737123\n",
            "\n",
            "Validation set: Average loss: 1.8715, Accuracy: 3418/10000 (34%)\n",
            "\n",
            "Train Epoch: 35 [0/50000 (0%)]\tLoss: 1.813562\n",
            "\n",
            "Validation set: Average loss: 1.8676, Accuracy: 3420/10000 (34%)\n",
            "\n",
            "Train Epoch: 36 [0/50000 (0%)]\tLoss: 1.893984\n",
            "\n",
            "Validation set: Average loss: 1.8638, Accuracy: 3443/10000 (34%)\n",
            "\n",
            "Train Epoch: 37 [0/50000 (0%)]\tLoss: 2.016006\n",
            "\n",
            "Validation set: Average loss: 1.8602, Accuracy: 3458/10000 (35%)\n",
            "\n",
            "Train Epoch: 38 [0/50000 (0%)]\tLoss: 1.936367\n",
            "\n",
            "Validation set: Average loss: 1.8567, Accuracy: 3471/10000 (35%)\n",
            "\n",
            "Train Epoch: 39 [0/50000 (0%)]\tLoss: 1.984449\n",
            "\n",
            "Validation set: Average loss: 1.8532, Accuracy: 3484/10000 (35%)\n",
            "\n",
            "Train Epoch: 40 [0/50000 (0%)]\tLoss: 1.796739\n",
            "\n",
            "Validation set: Average loss: 1.8500, Accuracy: 3485/10000 (35%)\n",
            "\n"
          ],
          "name": "stdout"
        }
      ]
    },
    {
      "cell_type": "code",
      "metadata": {
        "id": "a3ksO221WK_S",
        "colab_type": "code",
        "colab": {
          "base_uri": "https://localhost:8080/",
          "height": 279
        },
        "outputId": "b9a79275-1d63-4417-d9d9-8e17ad1b0e87"
      },
      "source": [
        "# Plot train loss and validation accuracy vs epochs for each learning rate\n",
        "epochs = [i for i in range(1, 41)]\n",
        "plt.plot(epochs, loss_vector)\n",
        "plt.xlabel(\"Epochs\")\n",
        "plt.ylabel(\"Loss\")\n",
        "plt.show()"
      ],
      "execution_count": 127,
      "outputs": [
        {
          "output_type": "display_data",
          "data": {
            "image/png": "[encoded data removed]",
            "text/plain": [
              "<Figure size 432x288 with 1 Axes>"
            ]
          },
          "metadata": {
            "tags": [],
            "needs_background": "light"
          }
        }
      ]
    }
  ]
}