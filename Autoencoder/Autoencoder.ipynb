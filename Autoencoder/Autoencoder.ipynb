{
  "nbformat": 4,
  "nbformat_minor": 0,
  "metadata": {
    "colab": {
      "name": "Autoencoder.ipynb",
      "provenance": []
    },
    "kernelspec": {
      "name": "python3",
      "display_name": "Python 3"
    }
  },
  "cells": [
    {
      "cell_type": "markdown",
      "metadata": {
        "id": "gTil_3i6bul4",
        "colab_type": "text"
      },
      "source": [
        "AutoEncoder"
      ]
    },
    {
      "cell_type": "code",
      "metadata": {
        "id": "FDcac2H-Yho8",
        "colab_type": "code",
        "colab": {}
      },
      "source": [
        "import torch\n",
        "import torch.nn as nn\n",
        "import torch.nn.functional as F\n",
        "import torch.optim as optim\n",
        "from torch.utils.data import TensorDataset\n",
        "from torch.autograd import Variable\n",
        "from sklearn.model_selection import train_test_split\n",
        "import numpy as np\n",
        "import pandas as pd\n",
        "import matplotlib.pyplot as plt"
      ],
      "execution_count": 1,
      "outputs": []
    },
    {
      "cell_type": "markdown",
      "metadata": {
        "id": "1H1ZviclmhGv",
        "colab_type": "text"
      },
      "source": [
        "<img src=\"https://blog.paperspace.com/content/images/2020/01/1_oUbsOnYKX5DEpMOK3pH_lg.png\" width=600>\n",
        "\n"
      ]
    },
    {
      "cell_type": "code",
      "metadata": {
        "id": "nArGb08EZXxt",
        "colab_type": "code",
        "colab": {
          "base_uri": "https://localhost:8080/",
          "height": 445
        },
        "outputId": "6ac9db86-c137-4dcf-b278-a3d81eb0fa70"
      },
      "source": [
        "\n",
        "!wget --load-cookies /tmp/cookies.txt \"https://docs.google.com/uc?export=download&confirm=$(wget --quiet --save-cookies /tmp/cookies.txt --keep-session-cookies --no-check-certificate 'https://docs.google.com/uc?export=download&id=1_YP-yu9JxX6iuiJbzowi47HGtq-gIVCY' -O- | sed -rn 's/.*confirm=([0-9A-Za-z_]+).*/\\1\\n/p')&id=1_YP-yu9JxX6iuiJbzowi47HGtq-gIVCY\" -O fashion-mnist_train.csv && rm -rf /tmp/cookies.txt"
      ],
      "execution_count": 2,
      "outputs": [
        {
          "output_type": "stream",
          "text": [
            "--2020-09-17 18:49:15--  https://docs.google.com/uc?export=download&confirm=XLMH&id=1_YP-yu9JxX6iuiJbzowi47HGtq-gIVCY\n",
            "Resolving docs.google.com (docs.google.com)... 74.125.203.101, 74.125.203.113, 74.125.203.100, ...\n",
            "Connecting to docs.google.com (docs.google.com)|74.125.203.101|:443... connected.\n",
            "HTTP request sent, awaiting response... 302 Moved Temporarily\n",
            "Location: https://doc-08-1s-docs.googleusercontent.com/docs/securesc/n7unaj85f913dg8r84ol9vimhcnpeqbl/otet8kgonu9h4j4lq2s02oclb51vhshm/1600368525000/14751957923043800851/15723177410294387979Z/1_YP-yu9JxX6iuiJbzowi47HGtq-gIVCY?e=download [following]\n",
            "--2020-09-17 18:49:15--  https://doc-08-1s-docs.googleusercontent.com/docs/securesc/n7unaj85f913dg8r84ol9vimhcnpeqbl/otet8kgonu9h4j4lq2s02oclb51vhshm/1600368525000/14751957923043800851/15723177410294387979Z/1_YP-yu9JxX6iuiJbzowi47HGtq-gIVCY?e=download\n",
            "Resolving doc-08-1s-docs.googleusercontent.com (doc-08-1s-docs.googleusercontent.com)... 64.233.188.132, 2404:6800:4008:c06::84\n",
            "Connecting to doc-08-1s-docs.googleusercontent.com (doc-08-1s-docs.googleusercontent.com)|64.233.188.132|:443... connected.\n",
            "HTTP request sent, awaiting response... 302 Found\n",
            "Location: https://docs.google.com/nonceSigner?nonce=1s8562a3cgc4o&continue=https://doc-08-1s-docs.googleusercontent.com/docs/securesc/n7unaj85f913dg8r84ol9vimhcnpeqbl/otet8kgonu9h4j4lq2s02oclb51vhshm/1600368525000/14751957923043800851/15723177410294387979Z/1_YP-yu9JxX6iuiJbzowi47HGtq-gIVCY?e%3Ddownload&hash=itm702m76aa13hm7l12gh8soqe0vo2m4 [following]\n",
            "--2020-09-17 18:49:15--  https://docs.google.com/nonceSigner?nonce=1s8562a3cgc4o&continue=https://doc-08-1s-docs.googleusercontent.com/docs/securesc/n7unaj85f913dg8r84ol9vimhcnpeqbl/otet8kgonu9h4j4lq2s02oclb51vhshm/1600368525000/14751957923043800851/15723177410294387979Z/1_YP-yu9JxX6iuiJbzowi47HGtq-gIVCY?e%3Ddownload&hash=itm702m76aa13hm7l12gh8soqe0vo2m4\n",
            "Connecting to docs.google.com (docs.google.com)|74.125.203.101|:443... connected.\n",
            "HTTP request sent, awaiting response... 302 Found\n",
            "Location: https://doc-08-1s-docs.googleusercontent.com/docs/securesc/n7unaj85f913dg8r84ol9vimhcnpeqbl/otet8kgonu9h4j4lq2s02oclb51vhshm/1600368525000/14751957923043800851/15723177410294387979Z/1_YP-yu9JxX6iuiJbzowi47HGtq-gIVCY?e=download&nonce=1s8562a3cgc4o&user=15723177410294387979Z&hash=224svo1f5r8q6i48ogkvscsev0rqvf0f [following]\n",
            "--2020-09-17 18:49:16--  https://doc-08-1s-docs.googleusercontent.com/docs/securesc/n7unaj85f913dg8r84ol9vimhcnpeqbl/otet8kgonu9h4j4lq2s02oclb51vhshm/1600368525000/14751957923043800851/15723177410294387979Z/1_YP-yu9JxX6iuiJbzowi47HGtq-gIVCY?e=download&nonce=1s8562a3cgc4o&user=15723177410294387979Z&hash=224svo1f5r8q6i48ogkvscsev0rqvf0f\n",
            "Connecting to doc-08-1s-docs.googleusercontent.com (doc-08-1s-docs.googleusercontent.com)|64.233.188.132|:443... connected.\n",
            "HTTP request sent, awaiting response... 200 OK\n",
            "Length: unspecified [text/csv]\n",
            "Saving to: ‘fashion-mnist_train.csv’\n",
            "\n",
            "fashion-mnist_train     [       <=>          ] 126.88M  45.5MB/s    in 2.8s    \n",
            "\n",
            "2020-09-17 18:49:20 (45.5 MB/s) - ‘fashion-mnist_train.csv’ saved [133047193]\n",
            "\n"
          ],
          "name": "stdout"
        }
      ]
    },
    {
      "cell_type": "code",
      "metadata": {
        "id": "34XAwIAPZqXp",
        "colab_type": "code",
        "colab": {}
      },
      "source": [
        "train = pd.read_csv(\"./fashion-mnist_train.csv\") # download the dataset"
      ],
      "execution_count": 3,
      "outputs": []
    },
    {
      "cell_type": "code",
      "metadata": {
        "id": "RP_5R58xaEGr",
        "colab_type": "code",
        "colab": {
          "base_uri": "https://localhost:8080/",
          "height": 34
        },
        "outputId": "a3db769b-8d5a-48a7-9634-86115c8d43d0"
      },
      "source": [
        "train.shape # shape of the data-set"
      ],
      "execution_count": 4,
      "outputs": [
        {
          "output_type": "execute_result",
          "data": {
            "text/plain": [
              "(60000, 785)"
            ]
          },
          "metadata": {
            "tags": []
          },
          "execution_count": 4
        }
      ]
    },
    {
      "cell_type": "code",
      "metadata": {
        "id": "tw11iFyDacPV",
        "colab_type": "code",
        "colab": {
          "base_uri": "https://localhost:8080/",
          "height": 221
        },
        "outputId": "9c7c4f03-7074-4748-a99a-4ff9e304fd5b"
      },
      "source": [
        "train.iloc[5,:] "
      ],
      "execution_count": 10,
      "outputs": [
        {
          "output_type": "execute_result",
          "data": {
            "text/plain": [
              "label       4\n",
              "pixel1      0\n",
              "pixel2      0\n",
              "pixel3      0\n",
              "pixel4      5\n",
              "           ..\n",
              "pixel780    7\n",
              "pixel781    5\n",
              "pixel782    0\n",
              "pixel783    0\n",
              "pixel784    0\n",
              "Name: 5, Length: 785, dtype: int64"
            ]
          },
          "metadata": {
            "tags": []
          },
          "execution_count": 10
        }
      ]
    },
    {
      "cell_type": "markdown",
      "metadata": {
        "id": "n59aH8VNbbnx",
        "colab_type": "text"
      },
      "source": [
        "one can see, that there are pixels that have its values not from 0 to 1. Hence, one would like to normalize values of our pixels."
      ]
    },
    {
      "cell_type": "markdown",
      "metadata": {
        "id": "RVF60DhZb74U",
        "colab_type": "text"
      },
      "source": [
        "### Task 1: \n",
        "You should normalize values of pixels throughout the dataset"
      ]
    },
    {
      "cell_type": "code",
      "metadata": {
        "id": "JAvVll0rcD_n",
        "colab_type": "code",
        "colab": {
          "base_uri": "https://localhost:8080/",
          "height": 34
        },
        "outputId": "c61f5c1e-e82f-4016-f76a-074fed6022a0"
      },
      "source": [
        "X = train.iloc[:,1:] # data-set of features without the target variable\n",
        "y = train.iloc[:,0].values # the target variable\n",
        "\n",
        "X = train.iloc[:,1:].values/255 # each pixel is divided by 255 -> each  pixel \\in [0,1]\n",
        "X = (X - 0.5)/0.5 \n",
        "\n",
        "X.shape,y.shape"
      ],
      "execution_count": 12,
      "outputs": [
        {
          "output_type": "execute_result",
          "data": {
            "text/plain": [
              "((60000, 784), (60000,))"
            ]
          },
          "metadata": {
            "tags": []
          },
          "execution_count": 12
        }
      ]
    },
    {
      "cell_type": "code",
      "metadata": {
        "id": "B9rf3b2_dJX_",
        "colab_type": "code",
        "colab": {}
      },
      "source": [
        "X_train,X_val,y_train,y_val = train_test_split(X,y,test_size = 0.2)"
      ],
      "execution_count": 13,
      "outputs": []
    },
    {
      "cell_type": "code",
      "metadata": {
        "id": "V5rIPsOydhGH",
        "colab_type": "code",
        "colab": {}
      },
      "source": [
        "X_train_torch = torch.from_numpy(X_train).type(torch.FloatTensor)\n",
        "y_train_torch = torch.from_numpy(y_train)\n",
        "\n",
        "X_val_torch = torch.from_numpy(X_val).type(torch.FloatTensor)\n",
        "y_val_torch = torch.from_numpy(y_val)\n",
        "\n",
        "train_dataset = TensorDataset(X_train_torch, y_train_torch)\n",
        "val_dataset = TensorDataset(X_val_torch, y_val_torch)\n",
        "\n",
        "train_dataloader = torch.utils.data.DataLoader(\n",
        "    train_dataset, \n",
        "    batch_size=100,\n",
        "    shuffle=False, \n",
        "    num_workers=4\n",
        ")\n",
        "val_dataloader = torch.utils.data.DataLoader(\n",
        "    val_dataset, \n",
        "    batch_size=100,\n",
        "    shuffle=False, \n",
        "    num_workers=4\n",
        ")"
      ],
      "execution_count": 14,
      "outputs": []
    },
    {
      "cell_type": "code",
      "metadata": {
        "id": "tVVPmI2qeE3g",
        "colab_type": "code",
        "colab": {}
      },
      "source": [
        "def show_torch_image(torch_tensor):\n",
        "    plt.imshow(torch_tensor.numpy().reshape(28, 28), cmap='gray')\n",
        "    plt.show()"
      ],
      "execution_count": 16,
      "outputs": []
    },
    {
      "cell_type": "code",
      "metadata": {
        "id": "QXMdIsRtd4Ac",
        "colab_type": "code",
        "colab": {
          "base_uri": "https://localhost:8080/",
          "height": 265
        },
        "outputId": "05af9ceb-5447-407a-9e78-220e3c37ab31"
      },
      "source": [
        "idx = np.random.randint(0, len(X_train_torch))\n",
        "show_torch_image(X_train_torch[idx])"
      ],
      "execution_count": 17,
      "outputs": [
        {
          "output_type": "display_data",
          "data": {
            "image/png": "[encoded data removed]",
            "text/plain": [
              "<Figure size 432x288 with 1 Axes>"
            ]
          },
          "metadata": {
            "tags": [],
            "needs_background": "light"
          }
        }
      ]
    },
    {
      "cell_type": "markdown",
      "metadata": {
        "id": "GJsOi9-zej9O",
        "colab_type": "text"
      },
      "source": [
        "### Taks 2: \n",
        "Multilayer neural network for predictions"
      ]
    },
    {
      "cell_type": "code",
      "metadata": {
        "id": "ZW01_mK6e0LL",
        "colab_type": "code",
        "colab": {}
      },
      "source": [
        "class Model(nn.Module):\n",
        "  def __init__(self):\n",
        "    super(Model,self).__init__()\n",
        "    self.fc = nn.Linear(784,1000)\n",
        "    self.fc2 = nn.Linear(1000,500)\n",
        "    self.fc3 = nn.Linear(500,10)\n",
        "  def forward(self,x):\n",
        "    x.view((-1,784))\n",
        "    x = F.relu(self.fc(x))\n",
        "    x = F.relu(self.fc2(x))\n",
        "    x = F.relu(self.fc3(x))\n",
        "    return F.log_softmax(x)"
      ],
      "execution_count": 20,
      "outputs": []
    },
    {
      "cell_type": "code",
      "metadata": {
        "id": "zgL85MzfgK-5",
        "colab_type": "code",
        "colab": {}
      },
      "source": [
        "model = Model()\n",
        "optimizer = optim.Adam(model.parameters(),lr=1e-3)"
      ],
      "execution_count": 21,
      "outputs": []
    },
    {
      "cell_type": "code",
      "metadata": {
        "id": "Csf080hrgWeH",
        "colab_type": "code",
        "colab": {
          "base_uri": "https://localhost:8080/",
          "height": 102
        },
        "outputId": "fd8fa514-5b0b-46b2-825f-dafe5500292b"
      },
      "source": [
        "model.train()"
      ],
      "execution_count": 22,
      "outputs": [
        {
          "output_type": "execute_result",
          "data": {
            "text/plain": [
              "Model(\n",
              "  (fc): Linear(in_features=784, out_features=1000, bias=True)\n",
              "  (fc2): Linear(in_features=1000, out_features=500, bias=True)\n",
              "  (fc3): Linear(in_features=500, out_features=10, bias=True)\n",
              ")"
            ]
          },
          "metadata": {
            "tags": []
          },
          "execution_count": 22
        }
      ]
    },
    {
      "cell_type": "code",
      "metadata": {
        "id": "YgN0OfV0gfhq",
        "colab_type": "code",
        "colab": {
          "base_uri": "https://localhost:8080/",
          "height": 88
        },
        "outputId": "4855757b-7bb8-4683-eaa4-4b91b0f04597"
      },
      "source": [
        "num_epochs = 5\n",
        "losses = []\n",
        "\n",
        "for epoch in range(num_epochs):\n",
        "  for batch_idx,(X_batch,target) in enumerate(train_dataloader):\n",
        "    X_batch,target = Variable(X_batch),Variable(target)\n",
        "    \n",
        "    optimizer.zero_grad()\n",
        "    y_pred = model(X_batch)\n",
        "    loss = F.cross_entropy(y_pred,target)\n",
        "    losses.append(loss.cpu().data.item())\n",
        "    loss.backward()\n",
        "    optimizer.step()\n",
        "\n",
        "    if batch_idx % 100 == 1:\n",
        "            print('\\r Train Epoch: {}/{} [{}/{} ({:.0f}%)]\\tLoss: {:.6f}'.format(\n",
        "                epoch+1,\n",
        "                num_epochs,\n",
        "                batch_idx * len(X_batch), \n",
        "                len(train_dataloader.dataset),\n",
        "                100. * batch_idx / len(train_dataloader), \n",
        "                loss.cpu().data.item()), \n",
        "                end=''\n",
        "            )\n",
        "    \n"
      ],
      "execution_count": 24,
      "outputs": [
        {
          "output_type": "stream",
          "text": [
            "/usr/local/lib/python3.6/dist-packages/ipykernel_launcher.py:12: UserWarning: Implicit dimension choice for log_softmax has been deprecated. Change the call to include dim=X as an argument.\n",
            "  if sys.path[0] == '':\n"
          ],
          "name": "stderr"
        },
        {
          "output_type": "stream",
          "text": [
            " Train Epoch: 5/5 [40100/48000 (84%)]\tLoss: 0.678176"
          ],
          "name": "stdout"
        }
      ]
    },
    {
      "cell_type": "code",
      "metadata": {
        "id": "3W1halQQiJUk",
        "colab_type": "code",
        "colab": {
          "base_uri": "https://localhost:8080/",
          "height": 282
        },
        "outputId": "5406c553-e5be-49b4-ade2-e1cccf1ad07c"
      },
      "source": [
        "plt.plot(losses)"
      ],
      "execution_count": 27,
      "outputs": [
        {
          "output_type": "execute_result",
          "data": {
            "text/plain": [
              "[<matplotlib.lines.Line2D at 0x7fd8aa967780>]"
            ]
          },
          "metadata": {
            "tags": []
          },
          "execution_count": 27
        },
        {
          "output_type": "display_data",
          "data": {
            "image/png": "[encoded data removed]",
            "text/plain": [
              "<Figure size 432x288 with 1 Axes>"
            ]
          },
          "metadata": {
            "tags": [],
            "needs_background": "light"
          }
        }
      ]
    },
    {
      "cell_type": "code",
      "metadata": {
        "id": "e4h0UVzNiikp",
        "colab_type": "code",
        "colab": {}
      },
      "source": [
        "def eval_model( model, val_dataloader):\n",
        "  model.eval()\n",
        "  total_loss = 0\n",
        "  with torch.no_grad():\n",
        "    for batch_idx,(X_batch,target) in enumerate(val_dataloader):\n",
        "      X_batch, target = Variable(X_batch),Variable(target)\n",
        "      pred = model(X_batch)\n",
        "      loss = F.cross_entropy(pred,target)\n",
        "      total_loss += loss*X_batch.shape[0]\n",
        "    avg_loss = total_loss/len(val_dataloader)\n",
        "    return avg_loss.item()"
      ],
      "execution_count": 31,
      "outputs": []
    },
    {
      "cell_type": "code",
      "metadata": {
        "id": "iQ2yiwmgkPCR",
        "colab_type": "code",
        "colab": {
          "base_uri": "https://localhost:8080/",
          "height": 88
        },
        "outputId": "73c94c3f-b708-4580-86ce-547749a95244"
      },
      "source": [
        "eval_model(model,val_dataloader)"
      ],
      "execution_count": 32,
      "outputs": [
        {
          "output_type": "stream",
          "text": [
            "/usr/local/lib/python3.6/dist-packages/ipykernel_launcher.py:12: UserWarning: Implicit dimension choice for log_softmax has been deprecated. Change the call to include dim=X as an argument.\n",
            "  if sys.path[0] == '':\n"
          ],
          "name": "stderr"
        },
        {
          "output_type": "execute_result",
          "data": {
            "text/plain": [
              "77.8595962524414"
            ]
          },
          "metadata": {
            "tags": []
          },
          "execution_count": 32
        }
      ]
    },
    {
      "cell_type": "markdown",
      "metadata": {
        "id": "MxBAU2QimprC",
        "colab_type": "text"
      },
      "source": [
        "#### Task 3: Autoencoder"
      ]
    },
    {
      "cell_type": "code",
      "metadata": {
        "id": "f0WO8fsQnIHs",
        "colab_type": "code",
        "colab": {}
      },
      "source": [
        "class Autoencoder(nn.Module):\n",
        "  def __init__(self):\n",
        "    super(Autoencoder,self).__init__()\n",
        "    #encoder\n",
        "    self.e1 = nn.Linear(784,28)\n",
        "    self.e2 = nn.Linear(28,250)\n",
        "    #embedding\n",
        "    self.lv = nn.Linear(250,10)\n",
        "    #decoder\n",
        "    self.d1 = nn.Linear(10,250)\n",
        "    self.d2 = nn.Linear(250,500)\n",
        "    self.output_layer = nn.Linear(500,784)\n",
        "\n",
        "  def forward(self,x):\n",
        "    x.view((-1,784))\n",
        "    x = F.relu(self.e1(x))\n",
        "    x = F.relu(self.e2(x))\n",
        "\n",
        "    x = torch.sigmoid(self.lv(x))\n",
        "\n",
        "    x = F.relu(self.d1(x))\n",
        "    x = F.relu(self.d2(x))\n",
        "\n",
        "    x = self.output_layer(x)\n",
        "    return x"
      ],
      "execution_count": 45,
      "outputs": []
    },
    {
      "cell_type": "code",
      "metadata": {
        "id": "gRFJvMsGpBmS",
        "colab_type": "code",
        "colab": {}
      },
      "source": [
        "autoencoder = Autoencoder()\n",
        "optimizer = optim.Adam(autoencoder.parameters(),lr=1e-3)"
      ],
      "execution_count": 46,
      "outputs": []
    },
    {
      "cell_type": "code",
      "metadata": {
        "id": "JIVLJOZfmvj7",
        "colab_type": "code",
        "colab": {}
      },
      "source": [
        "num_epochs = 5\n",
        "losses = []\n",
        "loss_func = nn.MSELoss()\n",
        "\n",
        "for epoch in range(num_epochs):\n",
        "    for batch_idx, (X_batch, target) in enumerate(train_dataloader):\n",
        "        \n",
        "      y_pred = autoencoder(X_batch)\n",
        "\n",
        "      # target нас здесь не интересует - мы восстанавливаем сами изображения\n",
        "      loss = loss_func(y_pred, X_batch)\n",
        "\n",
        "      losses.append(loss.cpu().data.item())\n",
        "\n",
        "      loss.backward()\n",
        "        \n",
        "      optimizer.step()\n",
        "      optimizer.zero_grad()\n",
        "\n",
        "    if batch_idx % 100 == 1:\n",
        "            print('\\r Train Epoch: {}/{} [{}/{} ({:.0f}%)]\\tLoss: {:.6f}'.format(\n",
        "                epoch+1,\n",
        "                num_epochs,\n",
        "                batch_idx * len(X_batch), \n",
        "                len(train_dataloader.dataset),\n",
        "                100. * batch_idx / len(train_dataloader), \n",
        "                loss.cpu().data.item()), \n",
        "                end=''\n",
        "            )\n",
        "    \n"
      ],
      "execution_count": 52,
      "outputs": []
    },
    {
      "cell_type": "code",
      "metadata": {
        "id": "n4XWvGstqjmc",
        "colab_type": "code",
        "colab": {
          "base_uri": "https://localhost:8080/",
          "height": 34
        },
        "outputId": "a0c5f7a0-a226-4310-f680-bfa9abac54b3"
      },
      "source": [
        "autoencoder.eval()\n",
        "predictions = []\n",
        "\n",
        "for batch_idx, (data, target) in enumerate(val_dataloader):\n",
        "        y_pred = autoencoder(data)\n",
        "        for prediction in y_pred:\n",
        "            predictions.append(prediction)\n",
        "\n",
        "len(predictions)"
      ],
      "execution_count": 53,
      "outputs": [
        {
          "output_type": "execute_result",
          "data": {
            "text/plain": [
              "12000"
            ]
          },
          "metadata": {
            "tags": []
          },
          "execution_count": 53
        }
      ]
    },
    {
      "cell_type": "code",
      "metadata": {
        "id": "oaeLyVl0qoU9",
        "colab_type": "code",
        "colab": {
          "base_uri": "https://localhost:8080/",
          "height": 513
        },
        "outputId": "e94f863b-584f-41c7-dbc0-d7c0f774ad1b"
      },
      "source": [
        "idx = np.random.randint(0, len(X_val_torch))\n",
        "\n",
        "show_torch_image(X_val_torch[idx])\n",
        "show_torch_image(predictions[idx].detach())"
      ],
      "execution_count": 54,
      "outputs": [
        {
          "output_type": "display_data",
          "data": {
            "image/png": "[encoded data removed]",
            "text/plain": [
              "<Figure size 432x288 with 1 Axes>"
            ]
          },
          "metadata": {
            "tags": [],
            "needs_background": "light"
          }
        },
        {
          "output_type": "display_data",
          "data": {
            "image/png": "[encoded data removed]",
            "text/plain": [
              "<Figure size 432x288 with 1 Axes>"
            ]
          },
          "metadata": {
            "tags": [],
            "needs_background": "light"
          }
        }
      ]
    }
  ]
}