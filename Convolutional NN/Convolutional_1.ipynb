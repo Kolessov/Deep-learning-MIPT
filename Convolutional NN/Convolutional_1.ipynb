{
  "nbformat": 4,
  "nbformat_minor": 0,
  "metadata": {
    "colab": {
      "name": "Convolutional_1.ipynb",
      "provenance": []
    },
    "kernelspec": {
      "name": "python3",
      "display_name": "Python 3"
    }
  },
  "cells": [
    {
      "cell_type": "markdown",
      "metadata": {
        "id": "FsitQTTWhOXg",
        "colab_type": "text"
      },
      "source": [
        "### Convolutional Network"
      ]
    },
    {
      "cell_type": "code",
      "metadata": {
        "id": "Ickx3jdTiIAc",
        "colab_type": "code",
        "colab": {}
      },
      "source": [
        "import torch\n",
        "import torchvision\n",
        "from torchvision import transforms\n",
        "import torch.nn as nn\n",
        "import torch.nn.functional as F\n",
        "import numpy as np\n",
        "from torch.autograd import Variable\n",
        "import matplotlib.pyplot as plt\n",
        "%matplotlib inline"
      ],
      "execution_count": 86,
      "outputs": []
    },
    {
      "cell_type": "code",
      "metadata": {
        "id": "5htwRusWlA7l",
        "colab_type": "code",
        "colab": {}
      },
      "source": [
        "transform = transforms.Compose([transforms.ToTensor(),transforms.Normalize([.5],[.5])])"
      ],
      "execution_count": 24,
      "outputs": []
    },
    {
      "cell_type": "code",
      "metadata": {
        "id": "fRpJctoLlgJT",
        "colab_type": "code",
        "colab": {}
      },
      "source": [
        "trainset = torchvision.datasets.MNIST(root =\"./data\",train=True,download=True,transform=transform)\n",
        "train_loader = torch.utils.data.DataLoader(trainset,batch_size = 4,shuffle = True,num_workers= 2)\n",
        "testset = torchvision.datasets.MNIST(root=\"./data\",train=False,download=True,transform = transform)\n",
        "test_loader = torch.utils.data.DataLoader(testset,batch_size=4,shuffle=False,num_workers =2)"
      ],
      "execution_count": 65,
      "outputs": []
    },
    {
      "cell_type": "code",
      "metadata": {
        "id": "C6GN6fTZoRQO",
        "colab_type": "code",
        "colab": {
          "base_uri": "https://localhost:8080/",
          "height": 34
        },
        "outputId": "49c74924-83ce-4336-c8e7-dc79336a1a20"
      },
      "source": [
        "img,lab = trainset.__getitem__(30)\n",
        "img.shape,lab"
      ],
      "execution_count": 66,
      "outputs": [
        {
          "output_type": "execute_result",
          "data": {
            "text/plain": [
              "(torch.Size([1, 28, 28]), 3)"
            ]
          },
          "metadata": {
            "tags": []
          },
          "execution_count": 66
        }
      ]
    },
    {
      "cell_type": "code",
      "metadata": {
        "id": "l8mbS1sRohmg",
        "colab_type": "code",
        "colab": {}
      },
      "source": [
        "img[0] # the tensor for one image"
      ],
      "execution_count": null,
      "outputs": []
    },
    {
      "cell_type": "code",
      "metadata": {
        "id": "zfY57BXdo0zG",
        "colab_type": "code",
        "colab": {}
      },
      "source": [
        "def plot_tensor(torch_tensor):\n",
        "  plt.imshow(torch_tensor,cmap = \"gray\")\n",
        "  plt.show()"
      ],
      "execution_count": 41,
      "outputs": []
    },
    {
      "cell_type": "code",
      "metadata": {
        "id": "2PlbiF4TpEOZ",
        "colab_type": "code",
        "colab": {
          "base_uri": "https://localhost:8080/",
          "height": 265
        },
        "outputId": "3045d646-f8a2-4bde-bd21-dba23c86d200"
      },
      "source": [
        "plot_tensor(img[0])"
      ],
      "execution_count": 67,
      "outputs": [
        {
          "output_type": "display_data",
          "data": {
            "image/png": "[encoded data removed]",
            "text/plain": [
              "<Figure size 432x288 with 1 Axes>"
            ]
          },
          "metadata": {
            "tags": [],
            "needs_background": "light"
          }
        }
      ]
    },
    {
      "cell_type": "code",
      "metadata": {
        "id": "Hm5R-pjcmxw9",
        "colab_type": "code",
        "colab": {}
      },
      "source": [
        "data_iter = iter(train_loader)\n",
        "img,lab = data_iter.next()"
      ],
      "execution_count": 68,
      "outputs": []
    },
    {
      "cell_type": "code",
      "metadata": {
        "id": "rD2IL0aBpXjM",
        "colab_type": "code",
        "colab": {
          "base_uri": "https://localhost:8080/",
          "height": 265
        },
        "outputId": "e9f46e1c-caf8-4a95-abbd-b340fd438e08"
      },
      "source": [
        "plot_tensor(img[0][0])"
      ],
      "execution_count": 69,
      "outputs": [
        {
          "output_type": "display_data",
          "data": {
            "image/png": "[encoded data removed]",
            "text/plain": [
              "<Figure size 432x288 with 1 Axes>"
            ]
          },
          "metadata": {
            "tags": [],
            "needs_background": "light"
          }
        }
      ]
    },
    {
      "cell_type": "code",
      "metadata": {
        "id": "6GQxi_a9qGCU",
        "colab_type": "code",
        "colab": {}
      },
      "source": [
        "for i in range(trainset.__len__()): ## problems, we need in setattr\n",
        "  img,lab = trainset.__getitem__(i)\n",
        "  img = (img- 0.5)/0.5"
      ],
      "execution_count": 80,
      "outputs": []
    },
    {
      "cell_type": "code",
      "metadata": {
        "id": "k4YknTDDrZ3r",
        "colab_type": "code",
        "colab": {}
      },
      "source": [
        "img,lab = trainset.__getitem__(11)\n",
        "img"
      ],
      "execution_count": null,
      "outputs": []
    },
    {
      "cell_type": "code",
      "metadata": {
        "id": "MiQjFPNhsHRu",
        "colab_type": "code",
        "colab": {}
      },
      "source": [
        "transform = transforms.Compose([transforms.ToTensor(),transforms.Normalize([.5],[.5])])\n",
        "trainset = torchvision.datasets.MNIST(root =\"./data\",train=True,download=True,transform=transform)\n",
        "train_loader = torch.utils.data.DataLoader(trainset,batch_size = 4,shuffle = True,num_workers= 2)\n",
        "testset = torchvision.datasets.MNIST(root=\"./data\",train=False,download=True,transform = transform)\n",
        "test_loader = torch.utils.data.DataLoader(testset,batch_size=4,shuffle=False,num_workers =2)"
      ],
      "execution_count": 77,
      "outputs": []
    },
    {
      "cell_type": "code",
      "metadata": {
        "id": "55bt_2clsLKz",
        "colab_type": "code",
        "colab": {
          "base_uri": "https://localhost:8080/",
          "height": 1000
        },
        "outputId": "b42a10bd-2304-46a4-de80-8e63b959ed37"
      },
      "source": [
        "img,lab = trainset.__getitem__(0)\n",
        "img[0]"
      ],
      "execution_count": 81,
      "outputs": [
        {
          "output_type": "execute_result",
          "data": {
            "text/plain": [
              "tensor([[-1.0000, -1.0000, -1.0000, -1.0000, -1.0000, -1.0000, -1.0000, -1.0000,\n",
              "         -1.0000, -1.0000, -1.0000, -1.0000, -1.0000, -1.0000, -1.0000, -1.0000,\n",
              "         -1.0000, -1.0000, -1.0000, -1.0000, -1.0000, -1.0000, -1.0000, -1.0000,\n",
              "         -1.0000, -1.0000, -1.0000, -1.0000],\n",
              "        [-1.0000, -1.0000, -1.0000, -1.0000, -1.0000, -1.0000, -1.0000, -1.0000,\n",
              "         -1.0000, -1.0000, -1.0000, -1.0000, -1.0000, -1.0000, -1.0000, -1.0000,\n",
              "         -1.0000, -1.0000, -1.0000, -1.0000, -1.0000, -1.0000, -1.0000, -1.0000,\n",
              "         -1.0000, -1.0000, -1.0000, -1.0000],\n",
              "        [-1.0000, -1.0000, -1.0000, -1.0000, -1.0000, -1.0000, -1.0000, -1.0000,\n",
              "         -1.0000, -1.0000, -1.0000, -1.0000, -1.0000, -1.0000, -1.0000, -1.0000,\n",
              "         -1.0000, -1.0000, -1.0000, -1.0000, -1.0000, -1.0000, -1.0000, -1.0000,\n",
              "         -1.0000, -1.0000, -1.0000, -1.0000],\n",
              "        [-1.0000, -1.0000, -1.0000, -1.0000, -1.0000, -1.0000, -1.0000, -1.0000,\n",
              "         -1.0000, -1.0000, -1.0000, -1.0000, -1.0000, -1.0000, -1.0000, -1.0000,\n",
              "         -1.0000, -1.0000, -1.0000, -1.0000, -1.0000, -1.0000, -1.0000, -1.0000,\n",
              "         -1.0000, -1.0000, -1.0000, -1.0000],\n",
              "        [-1.0000, -1.0000, -1.0000, -1.0000, -1.0000, -1.0000, -1.0000, -1.0000,\n",
              "         -1.0000, -1.0000, -1.0000, -1.0000, -1.0000, -1.0000, -1.0000, -1.0000,\n",
              "         -1.0000, -1.0000, -1.0000, -1.0000, -1.0000, -1.0000, -1.0000, -1.0000,\n",
              "         -1.0000, -1.0000, -1.0000, -1.0000],\n",
              "        [-1.0000, -1.0000, -1.0000, -1.0000, -1.0000, -1.0000, -1.0000, -1.0000,\n",
              "         -1.0000, -1.0000, -1.0000, -1.0000, -0.9765, -0.8588, -0.8588, -0.8588,\n",
              "         -0.0118,  0.0667,  0.3725, -0.7961,  0.3020,  1.0000,  0.9373, -0.0039,\n",
              "         -1.0000, -1.0000, -1.0000, -1.0000],\n",
              "        [-1.0000, -1.0000, -1.0000, -1.0000, -1.0000, -1.0000, -1.0000, -1.0000,\n",
              "         -0.7647, -0.7176, -0.2627,  0.2078,  0.3333,  0.9843,  0.9843,  0.9843,\n",
              "          0.9843,  0.9843,  0.7647,  0.3490,  0.9843,  0.8980,  0.5294, -0.4980,\n",
              "         -1.0000, -1.0000, -1.0000, -1.0000],\n",
              "        [-1.0000, -1.0000, -1.0000, -1.0000, -1.0000, -1.0000, -1.0000, -0.6157,\n",
              "          0.8667,  0.9843,  0.9843,  0.9843,  0.9843,  0.9843,  0.9843,  0.9843,\n",
              "          0.9843,  0.9686, -0.2706, -0.3569, -0.3569, -0.5608, -0.6941, -1.0000,\n",
              "         -1.0000, -1.0000, -1.0000, -1.0000],\n",
              "        [-1.0000, -1.0000, -1.0000, -1.0000, -1.0000, -1.0000, -1.0000, -0.8588,\n",
              "          0.7176,  0.9843,  0.9843,  0.9843,  0.9843,  0.9843,  0.5529,  0.4275,\n",
              "          0.9373,  0.8902, -1.0000, -1.0000, -1.0000, -1.0000, -1.0000, -1.0000,\n",
              "         -1.0000, -1.0000, -1.0000, -1.0000],\n",
              "        [-1.0000, -1.0000, -1.0000, -1.0000, -1.0000, -1.0000, -1.0000, -1.0000,\n",
              "         -0.3725,  0.2235, -0.1608,  0.9843,  0.9843,  0.6078, -0.9137, -1.0000,\n",
              "         -0.6627,  0.2078, -1.0000, -1.0000, -1.0000, -1.0000, -1.0000, -1.0000,\n",
              "         -1.0000, -1.0000, -1.0000, -1.0000],\n",
              "        [-1.0000, -1.0000, -1.0000, -1.0000, -1.0000, -1.0000, -1.0000, -1.0000,\n",
              "         -1.0000, -0.8902, -0.9922,  0.2078,  0.9843, -0.2941, -1.0000, -1.0000,\n",
              "         -1.0000, -1.0000, -1.0000, -1.0000, -1.0000, -1.0000, -1.0000, -1.0000,\n",
              "         -1.0000, -1.0000, -1.0000, -1.0000],\n",
              "        [-1.0000, -1.0000, -1.0000, -1.0000, -1.0000, -1.0000, -1.0000, -1.0000,\n",
              "         -1.0000, -1.0000, -1.0000,  0.0902,  0.9843,  0.4902, -0.9843, -1.0000,\n",
              "         -1.0000, -1.0000, -1.0000, -1.0000, -1.0000, -1.0000, -1.0000, -1.0000,\n",
              "         -1.0000, -1.0000, -1.0000, -1.0000],\n",
              "        [-1.0000, -1.0000, -1.0000, -1.0000, -1.0000, -1.0000, -1.0000, -1.0000,\n",
              "         -1.0000, -1.0000, -1.0000, -0.9137,  0.4902,  0.9843, -0.4510, -1.0000,\n",
              "         -1.0000, -1.0000, -1.0000, -1.0000, -1.0000, -1.0000, -1.0000, -1.0000,\n",
              "         -1.0000, -1.0000, -1.0000, -1.0000],\n",
              "        [-1.0000, -1.0000, -1.0000, -1.0000, -1.0000, -1.0000, -1.0000, -1.0000,\n",
              "         -1.0000, -1.0000, -1.0000, -1.0000, -0.7255,  0.8902,  0.7647,  0.2549,\n",
              "         -0.1529, -0.9922, -1.0000, -1.0000, -1.0000, -1.0000, -1.0000, -1.0000,\n",
              "         -1.0000, -1.0000, -1.0000, -1.0000],\n",
              "        [-1.0000, -1.0000, -1.0000, -1.0000, -1.0000, -1.0000, -1.0000, -1.0000,\n",
              "         -1.0000, -1.0000, -1.0000, -1.0000, -1.0000, -0.3647,  0.8824,  0.9843,\n",
              "          0.9843, -0.0667, -0.8039, -1.0000, -1.0000, -1.0000, -1.0000, -1.0000,\n",
              "         -1.0000, -1.0000, -1.0000, -1.0000],\n",
              "        [-1.0000, -1.0000, -1.0000, -1.0000, -1.0000, -1.0000, -1.0000, -1.0000,\n",
              "         -1.0000, -1.0000, -1.0000, -1.0000, -1.0000, -1.0000, -0.6471,  0.4588,\n",
              "          0.9843,  0.9843,  0.1765, -0.7882, -1.0000, -1.0000, -1.0000, -1.0000,\n",
              "         -1.0000, -1.0000, -1.0000, -1.0000],\n",
              "        [-1.0000, -1.0000, -1.0000, -1.0000, -1.0000, -1.0000, -1.0000, -1.0000,\n",
              "         -1.0000, -1.0000, -1.0000, -1.0000, -1.0000, -1.0000, -1.0000, -0.8745,\n",
              "         -0.2706,  0.9765,  0.9843,  0.4667, -1.0000, -1.0000, -1.0000, -1.0000,\n",
              "         -1.0000, -1.0000, -1.0000, -1.0000],\n",
              "        [-1.0000, -1.0000, -1.0000, -1.0000, -1.0000, -1.0000, -1.0000, -1.0000,\n",
              "         -1.0000, -1.0000, -1.0000, -1.0000, -1.0000, -1.0000, -1.0000, -1.0000,\n",
              "         -1.0000,  0.9529,  0.9843,  0.9529, -0.4980, -1.0000, -1.0000, -1.0000,\n",
              "         -1.0000, -1.0000, -1.0000, -1.0000],\n",
              "        [-1.0000, -1.0000, -1.0000, -1.0000, -1.0000, -1.0000, -1.0000, -1.0000,\n",
              "         -1.0000, -1.0000, -1.0000, -1.0000, -1.0000, -1.0000, -0.6392,  0.0196,\n",
              "          0.4353,  0.9843,  0.9843,  0.6235, -0.9843, -1.0000, -1.0000, -1.0000,\n",
              "         -1.0000, -1.0000, -1.0000, -1.0000],\n",
              "        [-1.0000, -1.0000, -1.0000, -1.0000, -1.0000, -1.0000, -1.0000, -1.0000,\n",
              "         -1.0000, -1.0000, -1.0000, -1.0000, -0.6941,  0.1608,  0.7961,  0.9843,\n",
              "          0.9843,  0.9843,  0.9608,  0.4275, -1.0000, -1.0000, -1.0000, -1.0000,\n",
              "         -1.0000, -1.0000, -1.0000, -1.0000],\n",
              "        [-1.0000, -1.0000, -1.0000, -1.0000, -1.0000, -1.0000, -1.0000, -1.0000,\n",
              "         -1.0000, -1.0000, -0.8118, -0.1059,  0.7333,  0.9843,  0.9843,  0.9843,\n",
              "          0.9843,  0.5765, -0.3882, -1.0000, -1.0000, -1.0000, -1.0000, -1.0000,\n",
              "         -1.0000, -1.0000, -1.0000, -1.0000],\n",
              "        [-1.0000, -1.0000, -1.0000, -1.0000, -1.0000, -1.0000, -1.0000, -1.0000,\n",
              "         -0.8196, -0.4824,  0.6706,  0.9843,  0.9843,  0.9843,  0.9843,  0.5529,\n",
              "         -0.3647, -0.9843, -1.0000, -1.0000, -1.0000, -1.0000, -1.0000, -1.0000,\n",
              "         -1.0000, -1.0000, -1.0000, -1.0000],\n",
              "        [-1.0000, -1.0000, -1.0000, -1.0000, -1.0000, -1.0000, -0.8588,  0.3412,\n",
              "          0.7176,  0.9843,  0.9843,  0.9843,  0.9843,  0.5294, -0.3725, -0.9294,\n",
              "         -1.0000, -1.0000, -1.0000, -1.0000, -1.0000, -1.0000, -1.0000, -1.0000,\n",
              "         -1.0000, -1.0000, -1.0000, -1.0000],\n",
              "        [-1.0000, -1.0000, -1.0000, -1.0000, -0.5686,  0.3490,  0.7725,  0.9843,\n",
              "          0.9843,  0.9843,  0.9843,  0.9137,  0.0431, -0.9137, -1.0000, -1.0000,\n",
              "         -1.0000, -1.0000, -1.0000, -1.0000, -1.0000, -1.0000, -1.0000, -1.0000,\n",
              "         -1.0000, -1.0000, -1.0000, -1.0000],\n",
              "        [-1.0000, -1.0000, -1.0000, -1.0000,  0.0667,  0.9843,  0.9843,  0.9843,\n",
              "          0.6627,  0.0588,  0.0353, -0.8745, -1.0000, -1.0000, -1.0000, -1.0000,\n",
              "         -1.0000, -1.0000, -1.0000, -1.0000, -1.0000, -1.0000, -1.0000, -1.0000,\n",
              "         -1.0000, -1.0000, -1.0000, -1.0000],\n",
              "        [-1.0000, -1.0000, -1.0000, -1.0000, -1.0000, -1.0000, -1.0000, -1.0000,\n",
              "         -1.0000, -1.0000, -1.0000, -1.0000, -1.0000, -1.0000, -1.0000, -1.0000,\n",
              "         -1.0000, -1.0000, -1.0000, -1.0000, -1.0000, -1.0000, -1.0000, -1.0000,\n",
              "         -1.0000, -1.0000, -1.0000, -1.0000],\n",
              "        [-1.0000, -1.0000, -1.0000, -1.0000, -1.0000, -1.0000, -1.0000, -1.0000,\n",
              "         -1.0000, -1.0000, -1.0000, -1.0000, -1.0000, -1.0000, -1.0000, -1.0000,\n",
              "         -1.0000, -1.0000, -1.0000, -1.0000, -1.0000, -1.0000, -1.0000, -1.0000,\n",
              "         -1.0000, -1.0000, -1.0000, -1.0000],\n",
              "        [-1.0000, -1.0000, -1.0000, -1.0000, -1.0000, -1.0000, -1.0000, -1.0000,\n",
              "         -1.0000, -1.0000, -1.0000, -1.0000, -1.0000, -1.0000, -1.0000, -1.0000,\n",
              "         -1.0000, -1.0000, -1.0000, -1.0000, -1.0000, -1.0000, -1.0000, -1.0000,\n",
              "         -1.0000, -1.0000, -1.0000, -1.0000]])"
            ]
          },
          "metadata": {
            "tags": []
          },
          "execution_count": 81
        }
      ]
    },
    {
      "cell_type": "code",
      "metadata": {
        "id": "OeuBz5wjsRih",
        "colab_type": "code",
        "colab": {
          "base_uri": "https://localhost:8080/",
          "height": 265
        },
        "outputId": "b524247b-45c2-4610-b5ee-e2ef13d121ca"
      },
      "source": [
        "plot_tensor(img[0])"
      ],
      "execution_count": 82,
      "outputs": [
        {
          "output_type": "display_data",
          "data": {
            "image/png": "[encoded data removed]",
            "text/plain": [
              "<Figure size 432x288 with 1 Axes>"
            ]
          },
          "metadata": {
            "tags": [],
            "needs_background": "light"
          }
        }
      ]
    },
    {
      "cell_type": "code",
      "metadata": {
        "id": "FqQxO-IcsamL",
        "colab_type": "code",
        "colab": {}
      },
      "source": [
        "class SimpleConvNet(nn.Module):\n",
        "  def __init__(self):\n",
        "    # вызов конструктора предка\n",
        "    super(SimpleConvNet,self).__init__()\n",
        "    self.conv1 = nn.Conv2d(in_channels = 1,out_channels = 6,kernel_size = 5)\n",
        "    self.pool = nn.MaxPool2d(kernel_size=2,stride=2)\n",
        "    self.conv2 = nn.Conv2d(in_channels=6, out_channels = 16, kernel_size =5)\n",
        "    self.fc1 = nn.Linear(4*4*16,120)\n",
        "    self.fc2 = nn.Linear(120,84)\n",
        "    self.output = nn.Linear(84,10)\n",
        "\n",
        "  def forward (self,x):\n",
        "    x = self.pool(self.conv1(x))\n",
        "    x = self.pool(self.conv2(x))\n",
        "    # print(x.shape)\n",
        "    x = x.view(-1,4*4*16)\n",
        "    x = F.relu(self.fc1(x))\n",
        "    x = F.relu(self.fc2(x))\n",
        "    x = self.output(x)\n",
        "    return x"
      ],
      "execution_count": 101,
      "outputs": []
    },
    {
      "cell_type": "code",
      "metadata": {
        "id": "tWESQ63Wx1Ok",
        "colab_type": "code",
        "colab": {
          "base_uri": "https://localhost:8080/",
          "height": 153
        },
        "outputId": "a92e0964-fb68-4235-f096-8ddeffb94173"
      },
      "source": [
        "Net = SimpleConvNet()\n",
        "optimizer =torch.optim.Adam(Net.parameters(),lr=1e-3)\n",
        "num_epochs = 2\n",
        "Net.train()"
      ],
      "execution_count": 102,
      "outputs": [
        {
          "output_type": "execute_result",
          "data": {
            "text/plain": [
              "SimpleConvNet(\n",
              "  (conv1): Conv2d(1, 6, kernel_size=(5, 5), stride=(1, 1))\n",
              "  (pool): MaxPool2d(kernel_size=2, stride=2, padding=0, dilation=1, ceil_mode=False)\n",
              "  (conv2): Conv2d(6, 16, kernel_size=(5, 5), stride=(1, 1))\n",
              "  (fc1): Linear(in_features=256, out_features=120, bias=True)\n",
              "  (fc2): Linear(in_features=120, out_features=84, bias=True)\n",
              "  (output): Linear(in_features=84, out_features=10, bias=True)\n",
              ")"
            ]
          },
          "metadata": {
            "tags": []
          },
          "execution_count": 102
        }
      ]
    },
    {
      "cell_type": "code",
      "metadata": {
        "id": "kN9NHQniy526",
        "colab_type": "code",
        "colab": {}
      },
      "source": [
        "def get_cross_entropy(value_1,value_2):\n",
        "  return torch.nn.functional.cross_entropy(value_1,value_2)"
      ],
      "execution_count": 103,
      "outputs": []
    },
    {
      "cell_type": "code",
      "metadata": {
        "id": "mDa3SReKzR9z",
        "colab_type": "code",
        "colab": {}
      },
      "source": [
        "def train(epoch, num_epochs,train_loader,optimizer):\n",
        "  losses,losso = [],[]\n",
        "  run_loss = 0\n",
        "  for batch_idx,(data,target) in enumerate(train_loader):\n",
        "    data,target = Variable(data),Variable(target)\n",
        "    optimizer.zero_grad()\n",
        "     \n",
        "    output = Net(data)\n",
        "    loss = get_cross_entropy(output,target)\n",
        "    run_loss += loss.item()\n",
        "    losses.append(loss.item())\n",
        "    loss.backward()\n",
        "    optimizer.step()\n",
        "\n",
        "    if batch_idx % 2000 == 1999:\n",
        "      print('[%d, %5d] loss: %.3f' %(epoch + 1, batch_idx + 1, run_loss / 2000))\n",
        "      losso.append(run_loss)\n",
        "      run_loss = 0.0\n",
        "  return losses,losso"
      ],
      "execution_count": 104,
      "outputs": []
    },
    {
      "cell_type": "code",
      "metadata": {
        "id": "wOFIy-Gi1KWV",
        "colab_type": "code",
        "colab": {
          "base_uri": "https://localhost:8080/",
          "height": 255
        },
        "outputId": "48bfe89d-aa55-4138-da87-04d3d0ead8cc"
      },
      "source": [
        "for epoch in range(num_epochs):\n",
        "  losses = train(epoch,num_epochs,train_loader,optimizer)"
      ],
      "execution_count": 105,
      "outputs": [
        {
          "output_type": "stream",
          "text": [
            "[1,  2000] loss: 0.383\n",
            "[1,  4000] loss: 0.166\n",
            "[1,  6000] loss: 0.138\n",
            "[1,  8000] loss: 0.130\n",
            "[1, 10000] loss: 0.110\n",
            "[1, 12000] loss: 0.087\n",
            "[1, 14000] loss: 0.103\n",
            "[2,  2000] loss: 0.086\n",
            "[2,  4000] loss: 0.074\n",
            "[2,  6000] loss: 0.079\n",
            "[2,  8000] loss: 0.077\n",
            "[2, 10000] loss: 0.074\n",
            "[2, 12000] loss: 0.084\n",
            "[2, 14000] loss: 0.082\n"
          ],
          "name": "stdout"
        }
      ]
    },
    {
      "cell_type": "code",
      "metadata": {
        "id": "VtTK2aC13mAP",
        "colab_type": "code",
        "colab": {
          "base_uri": "https://localhost:8080/",
          "height": 187
        },
        "outputId": "a99b9ac4-b218-401b-8e8a-3668bc30bf5b"
      },
      "source": [
        "class_correct = list(0. for i in range(10))\n",
        "class_total = list(0. for i in range(10))\n",
        "classes = tuple(str(i) for i in range(10))\n",
        "Net.eval()\n",
        "\n",
        "with torch.no_grad():\n",
        "    for data in test_loader:\n",
        "        images, labels = data\n",
        "        y_pred = Net(images)\n",
        "        _, predicted = torch.max(y_pred, 1)\n",
        "        c = (predicted == labels).squeeze()\n",
        "        for i in range(4):\n",
        "            label = labels[i]\n",
        "            class_correct[label] += c[i].item()\n",
        "            class_total[label] += 1\n",
        "\n",
        "\n",
        "for i in range(10):\n",
        "    print('Accuracy of %5s : %2d %%' % (\n",
        "        classes[i], 100 * class_correct[i] / class_total[i]))"
      ],
      "execution_count": 112,
      "outputs": [
        {
          "output_type": "stream",
          "text": [
            "Accuracy of     0 : 96 %\n",
            "Accuracy of     1 : 98 %\n",
            "Accuracy of     2 : 96 %\n",
            "Accuracy of     3 : 98 %\n",
            "Accuracy of     4 : 99 %\n",
            "Accuracy of     5 : 98 %\n",
            "Accuracy of     6 : 98 %\n",
            "Accuracy of     7 : 97 %\n",
            "Accuracy of     8 : 97 %\n",
            "Accuracy of     9 : 96 %\n"
          ],
          "name": "stdout"
        }
      ]
    }
  ]
}